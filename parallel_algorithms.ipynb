{
 "cells": [
  {
   "cell_type": "code",
   "execution_count": 1,
   "metadata": {
    "collapsed": true
   },
   "outputs": [],
   "source": [
    "from pyspark import SparkContext\n",
    "sc = SparkContext('local[*]', 'pyspark tutorial')\n",
    "from time import sleep, time"
   ]
  },
  {
   "cell_type": "markdown",
   "metadata": {},
   "source": [
    "# A decorator: timer \n",
    "https://codereview.stackexchange.com/questions/169870/decorator-to-measure-execution-time-of-a-function"
   ]
  },
  {
   "cell_type": "code",
   "execution_count": 43,
   "metadata": {
    "collapsed": true
   },
   "outputs": [],
   "source": [
    "from time import time\n",
    "def timer(f):\n",
    "    def wrapper(*args, **kwargs):  \n",
    "        # 1. what are *args and **kwargs  ?  \n",
    "        start = time()\n",
    "        result = f(*args, **kwargs)\n",
    "        end = time()\n",
    "        print 'The function {0} took {1} seconds to return.'.format(f.__name__, end-start)\n",
    "        # 2. what is .format ?\n",
    "        # 3. what is f.__name__ ?\n",
    "        return result\n",
    "    return wrapper\n",
    "# issue: print command is executed on every recursive call of f (ideally it should be executed only once at the end)    "
   ]
  },
  {
   "cell_type": "markdown",
   "metadata": {},
   "source": [
    "1. https://www.programiz.com/python-programming/args-and-kwargs\n",
    "   - args (non keyword arguments) is a list \n",
    "   - kwargs (keyword arguments) is a dictionary \n",
    "2. https://pyformat.info/\n",
    "3. https://stackoverflow.com/questions/251464/how-to-get-a-function-name-as-a-string-in-python"
   ]
  },
  {
   "cell_type": "markdown",
   "metadata": {},
   "source": [
    "# evaluate a function on a parallel collection"
   ]
  },
  {
   "cell_type": "code",
   "execution_count": 34,
   "metadata": {
    "collapsed": true
   },
   "outputs": [],
   "source": [
    "_limit = 8\n",
    "my_list = range(_limit)\n",
    "\n",
    "def fun(x):\n",
    "    sleep(5)\n",
    "    return x*x\n",
    "\n",
    "@timer\n",
    "def evaluate_parallel(my_list):\n",
    "    my_rdd = sc.parallelize(my_list)\n",
    "    my_rdd_transformed = my_rdd.map(lambda x: fun(x)).collect()\n",
    "    return list(my_rdd_transformed)"
   ]
  },
  {
   "cell_type": "code",
   "execution_count": 33,
   "metadata": {},
   "outputs": [
    {
     "name": "stdout",
     "output_type": "stream",
     "text": [
      "the function evaluate_parallel took 10.0906891823 time\n"
     ]
    },
    {
     "data": {
      "text/plain": [
       "[0, 1, 4, 9, 16, 25, 36, 49]"
      ]
     },
     "execution_count": 33,
     "metadata": {},
     "output_type": "execute_result"
    }
   ],
   "source": [
    "evaluate_parallel(my_list)"
   ]
  },
  {
   "cell_type": "markdown",
   "metadata": {},
   "source": [
    "# apply a filter on a parallel collection"
   ]
  },
  {
   "cell_type": "code",
   "execution_count": 45,
   "metadata": {
    "collapsed": true
   },
   "outputs": [],
   "source": [
    "from random import random\n",
    "_num_samples = 1000\n",
    "\n",
    "def is_inside(p):\n",
    "    sleep(0.01)\n",
    "    x, y = random(), random()\n",
    "    return x*x + y*y < 1\n",
    "\n",
    "@timer\n",
    "def get_pi():\n",
    "    count = sc.parallelize(xrange(0, _num_samples)).filter(is_inside).count() # 1. what is xrange ?\n",
    "    print \"Pi is roughly %f\" % (4.0 * count / _num_samples)"
   ]
  },
  {
   "cell_type": "markdown",
   "metadata": {},
   "source": [
    "1. range vs xrange\n",
    "    - https://www.geeksforgeeks.org/range-vs-xrange-python/\n",
    "    - https://stackoverflow.com/questions/94935/what-is-the-difference-between-range-and-xrange-functions-in-python-2-x"
   ]
  },
  {
   "cell_type": "code",
   "execution_count": 46,
   "metadata": {},
   "outputs": [
    {
     "name": "stdout",
     "output_type": "stream",
     "text": [
      "Pi is roughly 3.120000\n",
      "The function get_pi took 2.86020493507 seconds to return.\n"
     ]
    }
   ],
   "source": [
    "get_pi()"
   ]
  },
  {
   "cell_type": "code",
   "execution_count": null,
   "metadata": {
    "collapsed": true
   },
   "outputs": [],
   "source": []
  }
 ],
 "metadata": {
  "kernelspec": {
   "display_name": "Python 2",
   "language": "python",
   "name": "python2"
  },
  "language_info": {
   "codemirror_mode": {
    "name": "ipython",
    "version": 2
   },
   "file_extension": ".py",
   "mimetype": "text/x-python",
   "name": "python",
   "nbconvert_exporter": "python",
   "pygments_lexer": "ipython2",
   "version": "2.7.13"
  }
 },
 "nbformat": 4,
 "nbformat_minor": 2
}
