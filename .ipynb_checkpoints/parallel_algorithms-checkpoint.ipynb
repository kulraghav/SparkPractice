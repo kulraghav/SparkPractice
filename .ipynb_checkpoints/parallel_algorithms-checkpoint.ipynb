{
 "cells": [
  {
   "cell_type": "code",
   "execution_count": 1,
   "metadata": {
    "collapsed": true
   },
   "outputs": [],
   "source": [
    "from pyspark import SparkContext\n",
    "sc = SparkContext('local[*]', 'pyspark tutorial')\n",
    "from time import sleep, time"
   ]
  },
  {
   "cell_type": "markdown",
   "metadata": {},
   "source": [
    "# evaluate a function f on a parallel collection"
   ]
  },
  {
   "cell_type": "code",
   "execution_count": 6,
   "metadata": {
    "collapsed": true
   },
   "outputs": [],
   "source": [
    "N = 8\n",
    "id_list = range(N)\n",
    "\n",
    "def fun(a, b):\n",
    "    sleep(5)\n",
    "    return (a, b)\n",
    "\n",
    "def evaluate_parallel(id_list):\n",
    "    rdd_jobs = sc.parallelize(id_list)\n",
    "    rdd_fun = rdd_jobs.map(lambda x: apply(fun, (x, x))).collect()\n",
    "    return list(rdd_fun)"
   ]
  },
  {
   "cell_type": "code",
   "execution_count": 7,
   "metadata": {},
   "outputs": [
    {
     "name": "stdout",
     "output_type": "stream",
     "text": [
      "10.0915670395\n"
     ]
    }
   ],
   "source": [
    "start = time()\n",
    "evaluate_parallel(id_list)\n",
    "end = time()\n",
    "print end-start"
   ]
  },
  {
   "cell_type": "markdown",
   "metadata": {},
   "source": [
    "# apply a filter on a parallel collection"
   ]
  },
  {
   "cell_type": "code",
   "execution_count": 22,
   "metadata": {
    "collapsed": true
   },
   "outputs": [],
   "source": [
    "import random\n",
    "\n",
    "def inside(p):\n",
    "    sleep(0.01)\n",
    "    x, y = random.random(), random.random()\n",
    "    return x*x + y*y < 1\n",
    "\n",
    "NUM_SAMPLES = 1000\n",
    "def get_pi():\n",
    "    count = sc.parallelize(xrange(0, NUM_SAMPLES)).filter(inside).count()\n",
    "    print \"Pi is roughly %f\" % (4.0 * count / NUM_SAMPLES)"
   ]
  },
  {
   "cell_type": "code",
   "execution_count": 23,
   "metadata": {},
   "outputs": [
    {
     "name": "stdout",
     "output_type": "stream",
     "text": [
      "Pi is roughly 3.120000\n",
      "2.84741091728\n"
     ]
    }
   ],
   "source": [
    "start = time()\n",
    "get_pi()\n",
    "end = time()\n",
    "print end - start"
   ]
  },
  {
   "cell_type": "code",
   "execution_count": null,
   "metadata": {
    "collapsed": true
   },
   "outputs": [],
   "source": []
  }
 ],
 "metadata": {
  "kernelspec": {
   "display_name": "Python 2",
   "language": "python",
   "name": "python2"
  },
  "language_info": {
   "codemirror_mode": {
    "name": "ipython",
    "version": 2
   },
   "file_extension": ".py",
   "mimetype": "text/x-python",
   "name": "python",
   "nbconvert_exporter": "python",
   "pygments_lexer": "ipython2",
   "version": "2.7.13"
  }
 },
 "nbformat": 4,
 "nbformat_minor": 2
}
